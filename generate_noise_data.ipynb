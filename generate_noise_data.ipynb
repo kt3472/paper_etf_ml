{
 "cells": [
  {
   "cell_type": "code",
   "execution_count": 85,
   "metadata": {},
   "outputs": [],
   "source": [
    "import pandas as pd\n",
    "import numpy as np"
   ]
  },
  {
   "cell_type": "code",
   "execution_count": 86,
   "metadata": {},
   "outputs": [],
   "source": [
    "g_df = pd.read_excel(\"etf_data_final.xlsx\")"
   ]
  },
  {
   "cell_type": "code",
   "execution_count": 87,
   "metadata": {},
   "outputs": [
    {
     "name": "stdout",
     "output_type": "stream",
     "text": [
      "<class 'pandas.core.frame.DataFrame'>\n",
      "RangeIndex: 1027 entries, 0 to 1026\n",
      "Columns: 292 entries, Unnamed: 0 to FXE250_y\n",
      "dtypes: datetime64[ns](1), float64(135), int64(156)\n",
      "memory usage: 2.3 MB\n"
     ]
    }
   ],
   "source": [
    "g_df.info()"
   ]
  },
  {
   "cell_type": "code",
   "execution_count": 88,
   "metadata": {},
   "outputs": [
    {
     "data": {
      "text/plain": [
       "Index(['Unnamed: 0', 'index', 'date', 'SPY_p', 'IWM_p', 'EEM_p', 'TLT_p',\n",
       "       'LQD_p', 'TIP_p', 'IYR_p',\n",
       "       ...\n",
       "       'FXE120_y', 'SPY250_y', 'IWM250_y', 'EEM250_y', 'TLT250_y', 'LQD250_y',\n",
       "       'TIP250_y', 'IYR250_y', 'GLD250_y', 'FXE250_y'],\n",
       "      dtype='object', length=292)"
      ]
     },
     "execution_count": 88,
     "metadata": {},
     "output_type": "execute_result"
    }
   ],
   "source": [
    "g_df.columns"
   ]
  },
  {
   "cell_type": "code",
   "execution_count": 89,
   "metadata": {},
   "outputs": [],
   "source": [
    "g_df.drop(['Unnamed: 0'], axis = 1, inplace = True)"
   ]
  },
  {
   "cell_type": "code",
   "execution_count": 90,
   "metadata": {},
   "outputs": [
    {
     "data": {
      "text/html": [
       "<div>\n",
       "<style scoped>\n",
       "    .dataframe tbody tr th:only-of-type {\n",
       "        vertical-align: middle;\n",
       "    }\n",
       "\n",
       "    .dataframe tbody tr th {\n",
       "        vertical-align: top;\n",
       "    }\n",
       "\n",
       "    .dataframe thead th {\n",
       "        text-align: right;\n",
       "    }\n",
       "</style>\n",
       "<table border=\"1\" class=\"dataframe\">\n",
       "  <thead>\n",
       "    <tr style=\"text-align: right;\">\n",
       "      <th></th>\n",
       "      <th>index</th>\n",
       "      <th>date</th>\n",
       "      <th>SPY_p</th>\n",
       "      <th>IWM_p</th>\n",
       "      <th>EEM_p</th>\n",
       "      <th>TLT_p</th>\n",
       "      <th>LQD_p</th>\n",
       "      <th>TIP_p</th>\n",
       "      <th>IYR_p</th>\n",
       "      <th>GLD_p</th>\n",
       "      <th>...</th>\n",
       "      <th>FXE120_y</th>\n",
       "      <th>SPY250_y</th>\n",
       "      <th>IWM250_y</th>\n",
       "      <th>EEM250_y</th>\n",
       "      <th>TLT250_y</th>\n",
       "      <th>LQD250_y</th>\n",
       "      <th>TIP250_y</th>\n",
       "      <th>IYR250_y</th>\n",
       "      <th>GLD250_y</th>\n",
       "      <th>FXE250_y</th>\n",
       "    </tr>\n",
       "  </thead>\n",
       "  <tbody>\n",
       "    <tr>\n",
       "      <th>0</th>\n",
       "      <td>250</td>\n",
       "      <td>2011-12-29</td>\n",
       "      <td>107.496193</td>\n",
       "      <td>66.057526</td>\n",
       "      <td>31.844088</td>\n",
       "      <td>98.016830</td>\n",
       "      <td>85.749313</td>\n",
       "      <td>102.159256</td>\n",
       "      <td>42.352482</td>\n",
       "      <td>150.339996</td>\n",
       "      <td>...</td>\n",
       "      <td>0</td>\n",
       "      <td>1</td>\n",
       "      <td>0</td>\n",
       "      <td>0</td>\n",
       "      <td>1</td>\n",
       "      <td>1</td>\n",
       "      <td>1</td>\n",
       "      <td>1</td>\n",
       "      <td>1</td>\n",
       "      <td>0</td>\n",
       "    </tr>\n",
       "    <tr>\n",
       "      <th>1</th>\n",
       "      <td>251</td>\n",
       "      <td>2011-12-30</td>\n",
       "      <td>106.967743</td>\n",
       "      <td>65.701195</td>\n",
       "      <td>31.869280</td>\n",
       "      <td>98.333130</td>\n",
       "      <td>86.112694</td>\n",
       "      <td>102.124252</td>\n",
       "      <td>42.144760</td>\n",
       "      <td>151.990005</td>\n",
       "      <td>...</td>\n",
       "      <td>0</td>\n",
       "      <td>1</td>\n",
       "      <td>0</td>\n",
       "      <td>0</td>\n",
       "      <td>1</td>\n",
       "      <td>1</td>\n",
       "      <td>1</td>\n",
       "      <td>1</td>\n",
       "      <td>1</td>\n",
       "      <td>0</td>\n",
       "    </tr>\n",
       "    <tr>\n",
       "      <th>2</th>\n",
       "      <td>252</td>\n",
       "      <td>2012-01-03</td>\n",
       "      <td>108.672401</td>\n",
       "      <td>66.788040</td>\n",
       "      <td>32.843678</td>\n",
       "      <td>96.857132</td>\n",
       "      <td>86.044540</td>\n",
       "      <td>102.089241</td>\n",
       "      <td>42.404408</td>\n",
       "      <td>155.919998</td>\n",
       "      <td>...</td>\n",
       "      <td>0</td>\n",
       "      <td>1</td>\n",
       "      <td>0</td>\n",
       "      <td>0</td>\n",
       "      <td>1</td>\n",
       "      <td>1</td>\n",
       "      <td>1</td>\n",
       "      <td>1</td>\n",
       "      <td>1</td>\n",
       "      <td>0</td>\n",
       "    </tr>\n",
       "    <tr>\n",
       "      <th>3</th>\n",
       "      <td>253</td>\n",
       "      <td>2012-01-04</td>\n",
       "      <td>108.842880</td>\n",
       "      <td>66.422791</td>\n",
       "      <td>32.658875</td>\n",
       "      <td>95.705551</td>\n",
       "      <td>86.112694</td>\n",
       "      <td>102.185547</td>\n",
       "      <td>41.929615</td>\n",
       "      <td>156.710007</td>\n",
       "      <td>...</td>\n",
       "      <td>0</td>\n",
       "      <td>1</td>\n",
       "      <td>0</td>\n",
       "      <td>0</td>\n",
       "      <td>1</td>\n",
       "      <td>1</td>\n",
       "      <td>1</td>\n",
       "      <td>1</td>\n",
       "      <td>1</td>\n",
       "      <td>0</td>\n",
       "    </tr>\n",
       "    <tr>\n",
       "      <th>4</th>\n",
       "      <td>254</td>\n",
       "      <td>2012-01-05</td>\n",
       "      <td>109.132668</td>\n",
       "      <td>66.796974</td>\n",
       "      <td>32.516071</td>\n",
       "      <td>95.535225</td>\n",
       "      <td>85.741760</td>\n",
       "      <td>102.378059</td>\n",
       "      <td>42.233788</td>\n",
       "      <td>157.779999</td>\n",
       "      <td>...</td>\n",
       "      <td>0</td>\n",
       "      <td>1</td>\n",
       "      <td>0</td>\n",
       "      <td>0</td>\n",
       "      <td>1</td>\n",
       "      <td>1</td>\n",
       "      <td>1</td>\n",
       "      <td>1</td>\n",
       "      <td>1</td>\n",
       "      <td>0</td>\n",
       "    </tr>\n",
       "  </tbody>\n",
       "</table>\n",
       "<p>5 rows × 291 columns</p>\n",
       "</div>"
      ],
      "text/plain": [
       "   index       date       SPY_p      IWM_p      EEM_p      TLT_p      LQD_p  \\\n",
       "0    250 2011-12-29  107.496193  66.057526  31.844088  98.016830  85.749313   \n",
       "1    251 2011-12-30  106.967743  65.701195  31.869280  98.333130  86.112694   \n",
       "2    252 2012-01-03  108.672401  66.788040  32.843678  96.857132  86.044540   \n",
       "3    253 2012-01-04  108.842880  66.422791  32.658875  95.705551  86.112694   \n",
       "4    254 2012-01-05  109.132668  66.796974  32.516071  95.535225  85.741760   \n",
       "\n",
       "        TIP_p      IYR_p       GLD_p  ...  FXE120_y  SPY250_y  IWM250_y  \\\n",
       "0  102.159256  42.352482  150.339996  ...         0         1         0   \n",
       "1  102.124252  42.144760  151.990005  ...         0         1         0   \n",
       "2  102.089241  42.404408  155.919998  ...         0         1         0   \n",
       "3  102.185547  41.929615  156.710007  ...         0         1         0   \n",
       "4  102.378059  42.233788  157.779999  ...         0         1         0   \n",
       "\n",
       "   EEM250_y  TLT250_y  LQD250_y  TIP250_y  IYR250_y  GLD250_y  FXE250_y  \n",
       "0         0         1         1         1         1         1         0  \n",
       "1         0         1         1         1         1         1         0  \n",
       "2         0         1         1         1         1         1         0  \n",
       "3         0         1         1         1         1         1         0  \n",
       "4         0         1         1         1         1         1         0  \n",
       "\n",
       "[5 rows x 291 columns]"
      ]
     },
     "execution_count": 90,
     "metadata": {},
     "output_type": "execute_result"
    }
   ],
   "source": [
    "g_df.head()"
   ]
  },
  {
   "cell_type": "code",
   "execution_count": 91,
   "metadata": {},
   "outputs": [],
   "source": [
    "df_col = ['SPY_p', 'IWM_p', 'EEM_p', 'TLT_p', 'LQD_p', 'TIP_p', 'IYR_p',\n",
    "       'GLD_p', 'FXE_p', 'SPY_v', 'IWM_v', 'EEM_v', 'TLT_v', 'LQD_v', 'TIP_v',\n",
    "       'IYR_v', 'GLD_v', 'FXE_v']"
   ]
  },
  {
   "cell_type": "code",
   "execution_count": 92,
   "metadata": {},
   "outputs": [],
   "source": [
    "td = [1, 3, 5, 10, 20, 40, 60, 120, 250]"
   ]
  },
  {
   "cell_type": "code",
   "execution_count": 95,
   "metadata": {},
   "outputs": [
    {
     "name": "stdout",
     "output_type": "stream",
     "text": [
      "SPY_p  Random values Generating...\n",
      "IWM_p  Random values Generating...\n",
      "EEM_p  Random values Generating...\n",
      "TLT_p  Random values Generating...\n",
      "LQD_p  Random values Generating...\n",
      "TIP_p  Random values Generating...\n",
      "IYR_p  Random values Generating...\n",
      "GLD_p  Random values Generating...\n",
      "FXE_p  Random values Generating...\n",
      "SPY_v  Random values Generating...\n",
      "IWM_v  Random values Generating...\n",
      "EEM_v  Random values Generating...\n",
      "TLT_v  Random values Generating...\n",
      "LQD_v  Random values Generating...\n",
      "TIP_v  Random values Generating...\n",
      "IYR_v  Random values Generating...\n",
      "GLD_v  Random values Generating...\n",
      "FXE_v  Random values Generating...\n",
      "Wall time: 457 ms\n"
     ]
    }
   ],
   "source": [
    "%%time\n",
    "\n",
    "for k in g_df[df_col]:\n",
    "    \n",
    "    print(k,\" Random values Generating...\")\n",
    "\n",
    "    for i in td:\n",
    "        \n",
    "\n",
    "        #cir_check = 1        \n",
    "\n",
    "        a = k+\"_\"+str(i)\n",
    "                        \n",
    "        a_min = g_df[a].min()\n",
    "        a_max = g_df[a].max()\n",
    "        \n",
    "        # noise_a = np.random.uniform(0,1,len(g_df))\n",
    "                        \n",
    "        noise_a = np.random.uniform(a_min,a_max,len(g_df))\n",
    "        \n",
    "        g_df[a] = None\n",
    "                \n",
    "        g_df[a] = noise_a"
   ]
  },
  {
   "cell_type": "code",
   "execution_count": 96,
   "metadata": {},
   "outputs": [],
   "source": [
    "g_df.to_excel(\"random_data_final.xlsx\")"
   ]
  },
  {
   "cell_type": "code",
   "execution_count": null,
   "metadata": {},
   "outputs": [],
   "source": []
  }
 ],
 "metadata": {
  "kernelspec": {
   "display_name": "Python 3",
   "language": "python",
   "name": "python3"
  },
  "language_info": {
   "codemirror_mode": {
    "name": "ipython",
    "version": 3
   },
   "file_extension": ".py",
   "mimetype": "text/x-python",
   "name": "python",
   "nbconvert_exporter": "python",
   "pygments_lexer": "ipython3",
   "version": "3.6.4"
  }
 },
 "nbformat": 4,
 "nbformat_minor": 2
}
