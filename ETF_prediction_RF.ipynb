{
 "cells": [
  {
   "cell_type": "code",
   "execution_count": 1,
   "metadata": {},
   "outputs": [],
   "source": [
    "import pandas as pd\n",
    "from sklearn.model_selection import train_test_split\n",
    "from sklearn import svm\n",
    "from sklearn.model_selection import cross_val_score\n",
    "import numpy as np\n",
    "from sklearn import metrics\n",
    "import matplotlib.pyplot as plt\n",
    "from sklearn.ensemble import RandomForestClassifier\n",
    "from sklearn.metrics import roc_curve, auc\n",
    "from scipy import interp\n",
    "%matplotlib inline "
   ]
  },
  {
   "cell_type": "code",
   "execution_count": 105,
   "metadata": {},
   "outputs": [],
   "source": [
    "df = pd.read_excel(\"etf_data_final.xlsx\")"
   ]
  },
  {
   "cell_type": "code",
   "execution_count": 106,
   "metadata": {},
   "outputs": [
    {
     "data": {
      "text/html": [
       "<div>\n",
       "<style scoped>\n",
       "    .dataframe tbody tr th:only-of-type {\n",
       "        vertical-align: middle;\n",
       "    }\n",
       "\n",
       "    .dataframe tbody tr th {\n",
       "        vertical-align: top;\n",
       "    }\n",
       "\n",
       "    .dataframe thead th {\n",
       "        text-align: right;\n",
       "    }\n",
       "</style>\n",
       "<table border=\"1\" class=\"dataframe\">\n",
       "  <thead>\n",
       "    <tr style=\"text-align: right;\">\n",
       "      <th></th>\n",
       "      <th>Unnamed: 0</th>\n",
       "      <th>index</th>\n",
       "      <th>date</th>\n",
       "      <th>SPY_p</th>\n",
       "      <th>IWM_p</th>\n",
       "      <th>EEM_p</th>\n",
       "      <th>TLT_p</th>\n",
       "      <th>LQD_p</th>\n",
       "      <th>TIP_p</th>\n",
       "      <th>IYR_p</th>\n",
       "      <th>...</th>\n",
       "      <th>FXE120_y</th>\n",
       "      <th>SPY250_y</th>\n",
       "      <th>IWM250_y</th>\n",
       "      <th>EEM250_y</th>\n",
       "      <th>TLT250_y</th>\n",
       "      <th>LQD250_y</th>\n",
       "      <th>TIP250_y</th>\n",
       "      <th>IYR250_y</th>\n",
       "      <th>GLD250_y</th>\n",
       "      <th>FXE250_y</th>\n",
       "    </tr>\n",
       "  </thead>\n",
       "  <tbody>\n",
       "    <tr>\n",
       "      <th>0</th>\n",
       "      <td>0</td>\n",
       "      <td>250</td>\n",
       "      <td>2011-12-29</td>\n",
       "      <td>107.496193</td>\n",
       "      <td>66.057526</td>\n",
       "      <td>31.844088</td>\n",
       "      <td>98.016830</td>\n",
       "      <td>85.749313</td>\n",
       "      <td>102.159256</td>\n",
       "      <td>42.352482</td>\n",
       "      <td>...</td>\n",
       "      <td>0</td>\n",
       "      <td>1</td>\n",
       "      <td>0</td>\n",
       "      <td>0</td>\n",
       "      <td>1</td>\n",
       "      <td>1</td>\n",
       "      <td>1</td>\n",
       "      <td>1</td>\n",
       "      <td>1</td>\n",
       "      <td>0</td>\n",
       "    </tr>\n",
       "    <tr>\n",
       "      <th>1</th>\n",
       "      <td>1</td>\n",
       "      <td>251</td>\n",
       "      <td>2011-12-30</td>\n",
       "      <td>106.967743</td>\n",
       "      <td>65.701195</td>\n",
       "      <td>31.869280</td>\n",
       "      <td>98.333130</td>\n",
       "      <td>86.112694</td>\n",
       "      <td>102.124252</td>\n",
       "      <td>42.144760</td>\n",
       "      <td>...</td>\n",
       "      <td>0</td>\n",
       "      <td>1</td>\n",
       "      <td>0</td>\n",
       "      <td>0</td>\n",
       "      <td>1</td>\n",
       "      <td>1</td>\n",
       "      <td>1</td>\n",
       "      <td>1</td>\n",
       "      <td>1</td>\n",
       "      <td>0</td>\n",
       "    </tr>\n",
       "    <tr>\n",
       "      <th>2</th>\n",
       "      <td>2</td>\n",
       "      <td>252</td>\n",
       "      <td>2012-01-03</td>\n",
       "      <td>108.672401</td>\n",
       "      <td>66.788040</td>\n",
       "      <td>32.843678</td>\n",
       "      <td>96.857132</td>\n",
       "      <td>86.044540</td>\n",
       "      <td>102.089241</td>\n",
       "      <td>42.404408</td>\n",
       "      <td>...</td>\n",
       "      <td>0</td>\n",
       "      <td>1</td>\n",
       "      <td>0</td>\n",
       "      <td>0</td>\n",
       "      <td>1</td>\n",
       "      <td>1</td>\n",
       "      <td>1</td>\n",
       "      <td>1</td>\n",
       "      <td>1</td>\n",
       "      <td>0</td>\n",
       "    </tr>\n",
       "    <tr>\n",
       "      <th>3</th>\n",
       "      <td>3</td>\n",
       "      <td>253</td>\n",
       "      <td>2012-01-04</td>\n",
       "      <td>108.842880</td>\n",
       "      <td>66.422791</td>\n",
       "      <td>32.658875</td>\n",
       "      <td>95.705551</td>\n",
       "      <td>86.112694</td>\n",
       "      <td>102.185547</td>\n",
       "      <td>41.929615</td>\n",
       "      <td>...</td>\n",
       "      <td>0</td>\n",
       "      <td>1</td>\n",
       "      <td>0</td>\n",
       "      <td>0</td>\n",
       "      <td>1</td>\n",
       "      <td>1</td>\n",
       "      <td>1</td>\n",
       "      <td>1</td>\n",
       "      <td>1</td>\n",
       "      <td>0</td>\n",
       "    </tr>\n",
       "    <tr>\n",
       "      <th>4</th>\n",
       "      <td>4</td>\n",
       "      <td>254</td>\n",
       "      <td>2012-01-05</td>\n",
       "      <td>109.132668</td>\n",
       "      <td>66.796974</td>\n",
       "      <td>32.516071</td>\n",
       "      <td>95.535225</td>\n",
       "      <td>85.741760</td>\n",
       "      <td>102.378059</td>\n",
       "      <td>42.233788</td>\n",
       "      <td>...</td>\n",
       "      <td>0</td>\n",
       "      <td>1</td>\n",
       "      <td>0</td>\n",
       "      <td>0</td>\n",
       "      <td>1</td>\n",
       "      <td>1</td>\n",
       "      <td>1</td>\n",
       "      <td>1</td>\n",
       "      <td>1</td>\n",
       "      <td>0</td>\n",
       "    </tr>\n",
       "  </tbody>\n",
       "</table>\n",
       "<p>5 rows × 292 columns</p>\n",
       "</div>"
      ],
      "text/plain": [
       "   Unnamed: 0  index       date       SPY_p      IWM_p      EEM_p      TLT_p  \\\n",
       "0           0    250 2011-12-29  107.496193  66.057526  31.844088  98.016830   \n",
       "1           1    251 2011-12-30  106.967743  65.701195  31.869280  98.333130   \n",
       "2           2    252 2012-01-03  108.672401  66.788040  32.843678  96.857132   \n",
       "3           3    253 2012-01-04  108.842880  66.422791  32.658875  95.705551   \n",
       "4           4    254 2012-01-05  109.132668  66.796974  32.516071  95.535225   \n",
       "\n",
       "       LQD_p       TIP_p      IYR_p  ...  FXE120_y  SPY250_y  IWM250_y  \\\n",
       "0  85.749313  102.159256  42.352482  ...         0         1         0   \n",
       "1  86.112694  102.124252  42.144760  ...         0         1         0   \n",
       "2  86.044540  102.089241  42.404408  ...         0         1         0   \n",
       "3  86.112694  102.185547  41.929615  ...         0         1         0   \n",
       "4  85.741760  102.378059  42.233788  ...         0         1         0   \n",
       "\n",
       "   EEM250_y  TLT250_y  LQD250_y  TIP250_y  IYR250_y  GLD250_y  FXE250_y  \n",
       "0         0         1         1         1         1         1         0  \n",
       "1         0         1         1         1         1         1         0  \n",
       "2         0         1         1         1         1         1         0  \n",
       "3         0         1         1         1         1         1         0  \n",
       "4         0         1         1         1         1         1         0  \n",
       "\n",
       "[5 rows x 292 columns]"
      ]
     },
     "execution_count": 106,
     "metadata": {},
     "output_type": "execute_result"
    }
   ],
   "source": [
    "df.head()"
   ]
  },
  {
   "cell_type": "code",
   "execution_count": 107,
   "metadata": {},
   "outputs": [],
   "source": [
    "df.drop(['Unnamed: 0','index','date','month','week'], axis = 1, inplace=True)"
   ]
  },
  {
   "cell_type": "code",
   "execution_count": 108,
   "metadata": {},
   "outputs": [
    {
     "data": {
      "text/plain": [
       "Index(['SPY_p', 'IWM_p', 'EEM_p', 'TLT_p', 'LQD_p', 'TIP_p', 'IYR_p', 'GLD_p',\n",
       "       'FXE_p', 'SPY_v',\n",
       "       ...\n",
       "       'FXE120_y', 'SPY250_y', 'IWM250_y', 'EEM250_y', 'TLT250_y', 'LQD250_y',\n",
       "       'TIP250_y', 'IYR250_y', 'GLD250_y', 'FXE250_y'],\n",
       "      dtype='object', length=287)"
      ]
     },
     "execution_count": 108,
     "metadata": {},
     "output_type": "execute_result"
    }
   ],
   "source": [
    "df.columns"
   ]
  },
  {
   "cell_type": "code",
   "execution_count": 109,
   "metadata": {},
   "outputs": [],
   "source": [
    "p_v_col = ['SPY_p', 'IWM_p', 'EEM_p', 'TLT_p', \n",
    "           'LQD_p', 'TIP_p', 'IYR_p', 'GLD_p',\n",
    "           'FXE_p', 'SPY_v','IWM_v', 'EEM_v',\n",
    "           'TLT_v', 'LQD_v', 'TIP_v', 'IYR_v',\n",
    "           'GLD_v', 'FXE_v']"
   ]
  },
  {
   "cell_type": "code",
   "execution_count": 110,
   "metadata": {},
   "outputs": [],
   "source": [
    "df.drop(p_v_col, axis = 1, inplace=True)"
   ]
  },
  {
   "cell_type": "code",
   "execution_count": 111,
   "metadata": {},
   "outputs": [],
   "source": [
    "df_col = ['SPY', 'IWM', 'EEM', 'TLT', 'LQD', 'TIP', 'IYR',\n",
    "       'GLD', 'FXE']\n",
    "\n",
    "dummy = ['month_1', \n",
    "         'month_2', \n",
    "         'month_3', \n",
    "         'month_4', \n",
    "         'month_5', \n",
    "         'month_6', \n",
    "         'month_7', \n",
    "         'month_8', \n",
    "         'month_9',\n",
    "         'month_10',\n",
    "         'month_11',\n",
    "         'month_12',\n",
    "         'MON', 'TUE','WED', 'THU', 'FRI']\n",
    "\n",
    "td = [1, 3, 5, 10, 20, 40, 60, 120, 250]"
   ]
  },
  {
   "cell_type": "code",
   "execution_count": 112,
   "metadata": {},
   "outputs": [],
   "source": [
    "mean_tpr = 0.0\n",
    "mean_fpr = np.linspace(0, 1, 100)\n",
    "lw=2"
   ]
  },
  {
   "cell_type": "code",
   "execution_count": 120,
   "metadata": {},
   "outputs": [
    {
     "data": {
      "text/html": [
       "<div>\n",
       "<style scoped>\n",
       "    .dataframe tbody tr th:only-of-type {\n",
       "        vertical-align: middle;\n",
       "    }\n",
       "\n",
       "    .dataframe tbody tr th {\n",
       "        vertical-align: top;\n",
       "    }\n",
       "\n",
       "    .dataframe thead th {\n",
       "        text-align: right;\n",
       "    }\n",
       "</style>\n",
       "<table border=\"1\" class=\"dataframe\">\n",
       "  <thead>\n",
       "    <tr style=\"text-align: right;\">\n",
       "      <th></th>\n",
       "      <th>SPY_p_1</th>\n",
       "      <th>SPY_p_3</th>\n",
       "      <th>SPY_p_5</th>\n",
       "      <th>SPY_p_10</th>\n",
       "      <th>SPY_p_20</th>\n",
       "      <th>SPY_p_40</th>\n",
       "      <th>SPY_p_60</th>\n",
       "      <th>SPY_p_120</th>\n",
       "      <th>SPY_p_250</th>\n",
       "      <th>IWM_p_1</th>\n",
       "      <th>...</th>\n",
       "      <th>FXE120_y</th>\n",
       "      <th>SPY250_y</th>\n",
       "      <th>IWM250_y</th>\n",
       "      <th>EEM250_y</th>\n",
       "      <th>TLT250_y</th>\n",
       "      <th>LQD250_y</th>\n",
       "      <th>TIP250_y</th>\n",
       "      <th>IYR250_y</th>\n",
       "      <th>GLD250_y</th>\n",
       "      <th>FXE250_y</th>\n",
       "    </tr>\n",
       "  </thead>\n",
       "  <tbody>\n",
       "    <tr>\n",
       "      <th>0</th>\n",
       "      <td>0.010334</td>\n",
       "      <td>-0.002136</td>\n",
       "      <td>0.015704</td>\n",
       "      <td>0.042549</td>\n",
       "      <td>0.015440</td>\n",
       "      <td>0.040327</td>\n",
       "      <td>0.129784</td>\n",
       "      <td>-0.033292</td>\n",
       "      <td>0.013506</td>\n",
       "      <td>0.010080</td>\n",
       "      <td>...</td>\n",
       "      <td>0</td>\n",
       "      <td>1</td>\n",
       "      <td>0</td>\n",
       "      <td>0</td>\n",
       "      <td>1</td>\n",
       "      <td>1</td>\n",
       "      <td>1</td>\n",
       "      <td>1</td>\n",
       "      <td>1</td>\n",
       "      <td>0</td>\n",
       "    </tr>\n",
       "    <tr>\n",
       "      <th>1</th>\n",
       "      <td>-0.004916</td>\n",
       "      <td>-0.007827</td>\n",
       "      <td>0.001836</td>\n",
       "      <td>0.033687</td>\n",
       "      <td>0.010610</td>\n",
       "      <td>0.018598</td>\n",
       "      <td>0.103792</td>\n",
       "      <td>-0.033871</td>\n",
       "      <td>0.009080</td>\n",
       "      <td>-0.005394</td>\n",
       "      <td>...</td>\n",
       "      <td>0</td>\n",
       "      <td>1</td>\n",
       "      <td>0</td>\n",
       "      <td>0</td>\n",
       "      <td>1</td>\n",
       "      <td>1</td>\n",
       "      <td>1</td>\n",
       "      <td>1</td>\n",
       "      <td>1</td>\n",
       "      <td>0</td>\n",
       "    </tr>\n",
       "    <tr>\n",
       "      <th>2</th>\n",
       "      <td>0.015936</td>\n",
       "      <td>0.021389</td>\n",
       "      <td>0.008782</td>\n",
       "      <td>0.048606</td>\n",
       "      <td>0.027620</td>\n",
       "      <td>0.016306</td>\n",
       "      <td>0.101456</td>\n",
       "      <td>-0.021750</td>\n",
       "      <td>0.019859</td>\n",
       "      <td>0.016542</td>\n",
       "      <td>...</td>\n",
       "      <td>0</td>\n",
       "      <td>1</td>\n",
       "      <td>0</td>\n",
       "      <td>0</td>\n",
       "      <td>1</td>\n",
       "      <td>1</td>\n",
       "      <td>1</td>\n",
       "      <td>1</td>\n",
       "      <td>1</td>\n",
       "      <td>0</td>\n",
       "    </tr>\n",
       "    <tr>\n",
       "      <th>3</th>\n",
       "      <td>0.001569</td>\n",
       "      <td>0.012528</td>\n",
       "      <td>0.009566</td>\n",
       "      <td>0.061601</td>\n",
       "      <td>0.018142</td>\n",
       "      <td>0.024146</td>\n",
       "      <td>0.110620</td>\n",
       "      <td>-0.013406</td>\n",
       "      <td>0.023464</td>\n",
       "      <td>-0.005469</td>\n",
       "      <td>...</td>\n",
       "      <td>0</td>\n",
       "      <td>1</td>\n",
       "      <td>0</td>\n",
       "      <td>0</td>\n",
       "      <td>1</td>\n",
       "      <td>1</td>\n",
       "      <td>1</td>\n",
       "      <td>1</td>\n",
       "      <td>1</td>\n",
       "      <td>0</td>\n",
       "    </tr>\n",
       "    <tr>\n",
       "      <th>4</th>\n",
       "      <td>0.002662</td>\n",
       "      <td>0.020239</td>\n",
       "      <td>0.025715</td>\n",
       "      <td>0.033164</td>\n",
       "      <td>0.020529</td>\n",
       "      <td>0.020529</td>\n",
       "      <td>0.077538</td>\n",
       "      <td>-0.016488</td>\n",
       "      <td>0.028207</td>\n",
       "      <td>0.005633</td>\n",
       "      <td>...</td>\n",
       "      <td>0</td>\n",
       "      <td>1</td>\n",
       "      <td>0</td>\n",
       "      <td>0</td>\n",
       "      <td>1</td>\n",
       "      <td>1</td>\n",
       "      <td>1</td>\n",
       "      <td>1</td>\n",
       "      <td>1</td>\n",
       "      <td>0</td>\n",
       "    </tr>\n",
       "    <tr>\n",
       "      <th>...</th>\n",
       "      <td>...</td>\n",
       "      <td>...</td>\n",
       "      <td>...</td>\n",
       "      <td>...</td>\n",
       "      <td>...</td>\n",
       "      <td>...</td>\n",
       "      <td>...</td>\n",
       "      <td>...</td>\n",
       "      <td>...</td>\n",
       "      <td>...</td>\n",
       "      <td>...</td>\n",
       "      <td>...</td>\n",
       "      <td>...</td>\n",
       "      <td>...</td>\n",
       "      <td>...</td>\n",
       "      <td>...</td>\n",
       "      <td>...</td>\n",
       "      <td>...</td>\n",
       "      <td>...</td>\n",
       "      <td>...</td>\n",
       "      <td>...</td>\n",
       "    </tr>\n",
       "    <tr>\n",
       "      <th>1022</th>\n",
       "      <td>-0.015117</td>\n",
       "      <td>0.010719</td>\n",
       "      <td>-0.000905</td>\n",
       "      <td>-0.022301</td>\n",
       "      <td>-0.089215</td>\n",
       "      <td>-0.098368</td>\n",
       "      <td>-0.086366</td>\n",
       "      <td>-0.095581</td>\n",
       "      <td>-0.055381</td>\n",
       "      <td>-0.022196</td>\n",
       "      <td>...</td>\n",
       "      <td>0</td>\n",
       "      <td>0</td>\n",
       "      <td>0</td>\n",
       "      <td>0</td>\n",
       "      <td>0</td>\n",
       "      <td>0</td>\n",
       "      <td>0</td>\n",
       "      <td>0</td>\n",
       "      <td>0</td>\n",
       "      <td>0</td>\n",
       "    </tr>\n",
       "    <tr>\n",
       "      <th>1023</th>\n",
       "      <td>0.013643</td>\n",
       "      <td>0.018801</td>\n",
       "      <td>0.011379</td>\n",
       "      <td>-0.009942</td>\n",
       "      <td>-0.075263</td>\n",
       "      <td>-0.085936</td>\n",
       "      <td>-0.084317</td>\n",
       "      <td>-0.081447</td>\n",
       "      <td>-0.030055</td>\n",
       "      <td>0.019976</td>\n",
       "      <td>...</td>\n",
       "      <td>0</td>\n",
       "      <td>0</td>\n",
       "      <td>0</td>\n",
       "      <td>0</td>\n",
       "      <td>0</td>\n",
       "      <td>0</td>\n",
       "      <td>0</td>\n",
       "      <td>0</td>\n",
       "      <td>0</td>\n",
       "      <td>0</td>\n",
       "    </tr>\n",
       "    <tr>\n",
       "      <th>1024</th>\n",
       "      <td>-0.010883</td>\n",
       "      <td>-0.012545</td>\n",
       "      <td>0.013359</td>\n",
       "      <td>-0.028555</td>\n",
       "      <td>-0.083232</td>\n",
       "      <td>-0.096919</td>\n",
       "      <td>-0.093762</td>\n",
       "      <td>-0.094428</td>\n",
       "      <td>-0.049398</td>\n",
       "      <td>-0.013749</td>\n",
       "      <td>...</td>\n",
       "      <td>0</td>\n",
       "      <td>0</td>\n",
       "      <td>0</td>\n",
       "      <td>0</td>\n",
       "      <td>0</td>\n",
       "      <td>0</td>\n",
       "      <td>0</td>\n",
       "      <td>0</td>\n",
       "      <td>0</td>\n",
       "      <td>0</td>\n",
       "    </tr>\n",
       "    <tr>\n",
       "      <th>1025</th>\n",
       "      <td>0.005209</td>\n",
       "      <td>0.007834</td>\n",
       "      <td>0.012963</td>\n",
       "      <td>0.001483</td>\n",
       "      <td>-0.088187</td>\n",
       "      <td>-0.088430</td>\n",
       "      <td>-0.085098</td>\n",
       "      <td>-0.082196</td>\n",
       "      <td>-0.032277</td>\n",
       "      <td>-0.000201</td>\n",
       "      <td>...</td>\n",
       "      <td>0</td>\n",
       "      <td>0</td>\n",
       "      <td>0</td>\n",
       "      <td>0</td>\n",
       "      <td>0</td>\n",
       "      <td>0</td>\n",
       "      <td>0</td>\n",
       "      <td>0</td>\n",
       "      <td>0</td>\n",
       "      <td>0</td>\n",
       "    </tr>\n",
       "    <tr>\n",
       "      <th>1026</th>\n",
       "      <td>0.024377</td>\n",
       "      <td>0.018507</td>\n",
       "      <td>0.016796</td>\n",
       "      <td>0.009327</td>\n",
       "      <td>-0.059292</td>\n",
       "      <td>-0.075029</td>\n",
       "      <td>-0.073754</td>\n",
       "      <td>-0.058014</td>\n",
       "      <td>-0.020813</td>\n",
       "      <td>0.032802</td>\n",
       "      <td>...</td>\n",
       "      <td>0</td>\n",
       "      <td>0</td>\n",
       "      <td>0</td>\n",
       "      <td>0</td>\n",
       "      <td>0</td>\n",
       "      <td>0</td>\n",
       "      <td>0</td>\n",
       "      <td>0</td>\n",
       "      <td>0</td>\n",
       "      <td>0</td>\n",
       "    </tr>\n",
       "  </tbody>\n",
       "</table>\n",
       "<p>1027 rows × 269 columns</p>\n",
       "</div>"
      ],
      "text/plain": [
       "       SPY_p_1   SPY_p_3   SPY_p_5  SPY_p_10  SPY_p_20  SPY_p_40  SPY_p_60  \\\n",
       "0     0.010334 -0.002136  0.015704  0.042549  0.015440  0.040327  0.129784   \n",
       "1    -0.004916 -0.007827  0.001836  0.033687  0.010610  0.018598  0.103792   \n",
       "2     0.015936  0.021389  0.008782  0.048606  0.027620  0.016306  0.101456   \n",
       "3     0.001569  0.012528  0.009566  0.061601  0.018142  0.024146  0.110620   \n",
       "4     0.002662  0.020239  0.025715  0.033164  0.020529  0.020529  0.077538   \n",
       "...        ...       ...       ...       ...       ...       ...       ...   \n",
       "1022 -0.015117  0.010719 -0.000905 -0.022301 -0.089215 -0.098368 -0.086366   \n",
       "1023  0.013643  0.018801  0.011379 -0.009942 -0.075263 -0.085936 -0.084317   \n",
       "1024 -0.010883 -0.012545  0.013359 -0.028555 -0.083232 -0.096919 -0.093762   \n",
       "1025  0.005209  0.007834  0.012963  0.001483 -0.088187 -0.088430 -0.085098   \n",
       "1026  0.024377  0.018507  0.016796  0.009327 -0.059292 -0.075029 -0.073754   \n",
       "\n",
       "      SPY_p_120  SPY_p_250   IWM_p_1  ...  FXE120_y  SPY250_y  IWM250_y  \\\n",
       "0     -0.033292   0.013506  0.010080  ...         0         1         0   \n",
       "1     -0.033871   0.009080 -0.005394  ...         0         1         0   \n",
       "2     -0.021750   0.019859  0.016542  ...         0         1         0   \n",
       "3     -0.013406   0.023464 -0.005469  ...         0         1         0   \n",
       "4     -0.016488   0.028207  0.005633  ...         0         1         0   \n",
       "...         ...        ...       ...  ...       ...       ...       ...   \n",
       "1022  -0.095581  -0.055381 -0.022196  ...         0         0         0   \n",
       "1023  -0.081447  -0.030055  0.019976  ...         0         0         0   \n",
       "1024  -0.094428  -0.049398 -0.013749  ...         0         0         0   \n",
       "1025  -0.082196  -0.032277 -0.000201  ...         0         0         0   \n",
       "1026  -0.058014  -0.020813  0.032802  ...         0         0         0   \n",
       "\n",
       "      EEM250_y  TLT250_y  LQD250_y  TIP250_y  IYR250_y  GLD250_y  FXE250_y  \n",
       "0            0         1         1         1         1         1         0  \n",
       "1            0         1         1         1         1         1         0  \n",
       "2            0         1         1         1         1         1         0  \n",
       "3            0         1         1         1         1         1         0  \n",
       "4            0         1         1         1         1         1         0  \n",
       "...        ...       ...       ...       ...       ...       ...       ...  \n",
       "1022         0         0         0         0         0         0         0  \n",
       "1023         0         0         0         0         0         0         0  \n",
       "1024         0         0         0         0         0         0         0  \n",
       "1025         0         0         0         0         0         0         0  \n",
       "1026         0         0         0         0         0         0         0  \n",
       "\n",
       "[1027 rows x 269 columns]"
      ]
     },
     "execution_count": 120,
     "metadata": {},
     "output_type": "execute_result"
    }
   ],
   "source": [
    "df"
   ]
  },
  {
   "cell_type": "code",
   "execution_count": 136,
   "metadata": {
    "scrolled": false
   },
   "outputs": [
    {
     "name": "stdout",
     "output_type": "stream",
     "text": [
      "SPY\n",
      "Processing for horizon =  1\n",
      "AUC good =  0.9885925036452525\n",
      "accuracy :  0.9223300970873787\n"
     ]
    },
    {
     "data": {
      "image/png": "[encoded data removed]",
      "text/plain": [
       "<Figure size 432x288 with 1 Axes>"
      ]
     },
     "metadata": {
      "needs_background": "light"
     },
     "output_type": "display_data"
    },
    {
     "name": "stdout",
     "output_type": "stream",
     "text": [
      "Processing for horizon =  3\n",
      "AUC good =  0.9375277309432959\n",
      "accuracy :  0.8446601941747572\n"
     ]
    },
    {
     "data": {
      "image/png": "[encoded data removed]",
      "text/plain": [
       "<Figure size 432x288 with 1 Axes>"
      ]
     },
     "metadata": {
      "needs_background": "light"
     },
     "output_type": "display_data"
    },
    {
     "name": "stdout",
     "output_type": "stream",
     "text": [
      "Processing for horizon =  5\n",
      "AUC good =  0.9348207241167704\n",
      "accuracy :  0.8284789644012945\n"
     ]
    },
    {
     "data": {
      "image/png": "[encoded data removed]",
      "text/plain": [
       "<Figure size 432x288 with 1 Axes>"
      ]
     },
     "metadata": {
      "needs_background": "light"
     },
     "output_type": "display_data"
    },
    {
     "name": "stdout",
     "output_type": "stream",
     "text": [
      "Processing for horizon =  10\n",
      "AUC good =  0.9371827411167514\n",
      "accuracy :  0.8317152103559871\n"
     ]
    },
    {
     "data": {
      "image/png": "[encoded data removed]",
      "text/plain": [
       "<Figure size 432x288 with 1 Axes>"
      ]
     },
     "metadata": {
      "needs_background": "light"
     },
     "output_type": "display_data"
    },
    {
     "name": "stdout",
     "output_type": "stream",
     "text": [
      "Processing for horizon =  20\n",
      "AUC good =  0.9675673174794115\n",
      "accuracy :  0.7799352750809061\n"
     ]
    },
    {
     "data": {
      "image/png": "[encoded data removed]",
      "text/plain": [
       "<Figure size 432x288 with 1 Axes>"
      ]
     },
     "metadata": {
      "needs_background": "light"
     },
     "output_type": "display_data"
    },
    {
     "name": "stdout",
     "output_type": "stream",
     "text": [
      "Processing for horizon =  40\n",
      "AUC good =  0.9614130434782608\n",
      "accuracy :  0.8576051779935275\n"
     ]
    },
    {
     "data": {
      "image/png": "[encoded data removed]",
      "text/plain": [
       "<Figure size 432x288 with 1 Axes>"
      ]
     },
     "metadata": {
      "needs_background": "light"
     },
     "output_type": "display_data"
    },
    {
     "name": "stdout",
     "output_type": "stream",
     "text": [
      "Processing for horizon =  60\n",
      "AUC good =  0.9811787333424923\n",
      "accuracy :  0.889967637540453\n"
     ]
    },
    {
     "data": {
      "image/png": "[encoded data removed]",
      "text/plain": [
       "<Figure size 432x288 with 1 Axes>"
      ]
     },
     "metadata": {
      "needs_background": "light"
     },
     "output_type": "display_data"
    },
    {
     "name": "stdout",
     "output_type": "stream",
     "text": [
      "Processing for horizon =  120\n",
      "AUC good =  0.9945848375451264\n",
      "accuracy :  0.948220064724919\n"
     ]
    },
    {
     "data": {
      "image/png": "[encoded data removed]",
      "text/plain": [
       "<Figure size 432x288 with 1 Axes>"
      ]
     },
     "metadata": {
      "needs_background": "light"
     },
     "output_type": "display_data"
    },
    {
     "name": "stdout",
     "output_type": "stream",
     "text": [
      "Processing for horizon =  250\n",
      "AUC good =  0.992983367983368\n",
      "accuracy :  0.9838187702265372\n"
     ]
    },
    {
     "data": {
      "image/png": "[encoded data removed]",
      "text/plain": [
       "<Figure size 432x288 with 1 Axes>"
      ]
     },
     "metadata": {
      "needs_background": "light"
     },
     "output_type": "display_data"
    },
    {
     "name": "stdout",
     "output_type": "stream",
     "text": [
      "IWM\n",
      "Processing for horizon =  1\n",
      "AUC good =  0.9764087468460891\n",
      "accuracy :  0.889967637540453\n"
     ]
    },
    {
     "data": {
      "image/png": "[encoded data removed]",
      "text/plain": [
       "<Figure size 432x288 with 1 Axes>"
      ]
     },
     "metadata": {
      "needs_background": "light"
     },
     "output_type": "display_data"
    },
    {
     "name": "stdout",
     "output_type": "stream",
     "text": [
      "Processing for horizon =  3\n",
      "AUC good =  0.927717019822283\n",
      "accuracy :  0.8414239482200647\n"
     ]
    },
    {
     "data": {
      "image/png": "[encoded data removed]",
      "text/plain": [
       "<Figure size 432x288 with 1 Axes>"
      ]
     },
     "metadata": {
      "needs_background": "light"
     },
     "output_type": "display_data"
    },
    {
     "name": "stdout",
     "output_type": "stream",
     "text": [
      "Processing for horizon =  5\n",
      "AUC good =  0.9278984892208453\n",
      "accuracy :  0.8446601941747572\n"
     ]
    },
    {
     "data": {
      "image/png": "[encoded data removed]",
      "text/plain": [
       "<Figure size 432x288 with 1 Axes>"
      ]
     },
     "metadata": {
      "needs_background": "light"
     },
     "output_type": "display_data"
    },
    {
     "name": "stdout",
     "output_type": "stream",
     "text": [
      "Processing for horizon =  10\n",
      "AUC good =  0.9185357596275922\n",
      "accuracy :  0.8220064724919094\n"
     ]
    },
    {
     "data": {
      "image/png": "[encoded data removed]",
      "text/plain": [
       "<Figure size 432x288 with 1 Axes>"
      ]
     },
     "metadata": {
      "needs_background": "light"
     },
     "output_type": "display_data"
    },
    {
     "name": "stdout",
     "output_type": "stream",
     "text": [
      "Processing for horizon =  20\n",
      "AUC good =  0.9409764603312991\n",
      "accuracy :  0.8252427184466019\n"
     ]
    },
    {
     "data": {
      "image/png": "[encoded data removed]",
      "text/plain": [
       "<Figure size 432x288 with 1 Axes>"
      ]
     },
     "metadata": {
      "needs_background": "light"
     },
     "output_type": "display_data"
    },
    {
     "name": "stdout",
     "output_type": "stream",
     "text": [
      "Processing for horizon =  40\n",
      "AUC good =  0.9317502986857825\n",
      "accuracy :  0.8025889967637541\n"
     ]
    },
    {
     "data": {
      "image/png": "[encoded data removed]",
      "text/plain": [
       "<Figure size 432x288 with 1 Axes>"
      ]
     },
     "metadata": {
      "needs_background": "light"
     },
     "output_type": "display_data"
    },
    {
     "name": "stdout",
     "output_type": "stream",
     "text": [
      "Processing for horizon =  60\n",
      "AUC good =  0.9514873653907665\n",
      "accuracy :  0.8381877022653722\n"
     ]
    },
    {
     "data": {
      "image/png": "[encoded data removed]",
      "text/plain": [
       "<Figure size 432x288 with 1 Axes>"
      ]
     },
     "metadata": {
      "needs_background": "light"
     },
     "output_type": "display_data"
    },
    {
     "name": "stdout",
     "output_type": "stream",
     "text": [
      "Processing for horizon =  120\n",
      "AUC good =  0.966229952563813\n",
      "accuracy :  0.8576051779935275\n"
     ]
    },
    {
     "data": {
      "image/png": "[encoded data removed]",
      "text/plain": [
       "<Figure size 432x288 with 1 Axes>"
      ]
     },
     "metadata": {
      "needs_background": "light"
     },
     "output_type": "display_data"
    },
    {
     "name": "stdout",
     "output_type": "stream",
     "text": [
      "Processing for horizon =  250\n",
      "AUC good =  0.960303893637227\n",
      "accuracy :  0.9158576051779935\n"
     ]
    },
    {
     "data": {
      "image/png": "[encoded data removed]",
      "text/plain": [
       "<Figure size 432x288 with 1 Axes>"
      ]
     },
     "metadata": {
      "needs_background": "light"
     },
     "output_type": "display_data"
    },
    {
     "name": "stdout",
     "output_type": "stream",
     "text": [
      "EEM\n",
      "Processing for horizon =  1\n",
      "AUC good =  0.9416126042632067\n",
      "accuracy :  0.8284789644012945\n"
     ]
    },
    {
     "data": {
      "image/png": "[encoded data removed]",
      "text/plain": [
       "<Figure size 432x288 with 1 Axes>"
      ]
     },
     "metadata": {
      "needs_background": "light"
     },
     "output_type": "display_data"
    },
    {
     "name": "stdout",
     "output_type": "stream",
     "text": [
      "Processing for horizon =  3\n",
      "AUC good =  0.8417726851461791\n",
      "accuracy :  0.7411003236245954\n"
     ]
    },
    {
     "data": {
      "image/png": "[encoded data removed]",
      "text/plain": [
       "<Figure size 432x288 with 1 Axes>"
      ]
     },
     "metadata": {
      "needs_background": "light"
     },
     "output_type": "display_data"
    },
    {
     "name": "stdout",
     "output_type": "stream",
     "text": [
      "Processing for horizon =  5\n",
      "AUC good =  0.8929080392321235\n",
      "accuracy :  0.7928802588996764\n"
     ]
    },
    {
     "data": {
      "image/png": "[encoded data removed]",
      "text/plain": [
       "<Figure size 432x288 with 1 Axes>"
      ]
     },
     "metadata": {
      "needs_background": "light"
     },
     "output_type": "display_data"
    },
    {
     "name": "stdout",
     "output_type": "stream",
     "text": [
      "Processing for horizon =  10\n",
      "AUC good =  0.8998658730824042\n",
      "accuracy :  0.8025889967637541\n"
     ]
    },
    {
     "data": {
      "image/png": "[encoded data removed]",
      "text/plain": [
       "<Figure size 432x288 with 1 Axes>"
      ]
     },
     "metadata": {
      "needs_background": "light"
     },
     "output_type": "display_data"
    },
    {
     "name": "stdout",
     "output_type": "stream",
     "text": [
      "Processing for horizon =  20\n",
      "AUC good =  0.9316990701606086\n",
      "accuracy :  0.8478964401294499\n"
     ]
    },
    {
     "data": {
      "image/png": "[encoded data removed]",
      "text/plain": [
       "<Figure size 432x288 with 1 Axes>"
      ]
     },
     "metadata": {
      "needs_background": "light"
     },
     "output_type": "display_data"
    },
    {
     "name": "stdout",
     "output_type": "stream",
     "text": [
      "Processing for horizon =  40\n",
      "AUC good =  0.963633316574493\n",
      "accuracy :  0.889967637540453\n"
     ]
    },
    {
     "data": {
      "image/png": "[encoded data removed]",
      "text/plain": [
       "<Figure size 432x288 with 1 Axes>"
      ]
     },
     "metadata": {
      "needs_background": "light"
     },
     "output_type": "display_data"
    },
    {
     "name": "stdout",
     "output_type": "stream",
     "text": [
      "Processing for horizon =  60\n",
      "AUC good =  0.9769108280254777\n",
      "accuracy :  0.9158576051779935\n"
     ]
    },
    {
     "data": {
      "image/png": "[encoded data removed]",
      "text/plain": [
       "<Figure size 432x288 with 1 Axes>"
      ]
     },
     "metadata": {
      "needs_background": "light"
     },
     "output_type": "display_data"
    },
    {
     "name": "stdout",
     "output_type": "stream",
     "text": [
      "Processing for horizon =  120\n",
      "AUC good =  0.957977207977208\n",
      "accuracy :  0.883495145631068\n"
     ]
    },
    {
     "data": {
      "image/png": "[encoded data removed]",
      "text/plain": [
       "<Figure size 432x288 with 1 Axes>"
      ]
     },
     "metadata": {
      "needs_background": "light"
     },
     "output_type": "display_data"
    },
    {
     "name": "stdout",
     "output_type": "stream",
     "text": [
      "Processing for horizon =  250\n",
      "AUC good =  0.9681109621186725\n",
      "accuracy :  0.8705501618122977\n"
     ]
    },
    {
     "data": {
      "image/png": "[encoded data removed]",
      "text/plain": [
       "<Figure size 432x288 with 1 Axes>"
      ]
     },
     "metadata": {
      "needs_background": "light"
     },
     "output_type": "display_data"
    },
    {
     "name": "stdout",
     "output_type": "stream",
     "text": [
      "TLT\n",
      "Processing for horizon =  1\n",
      "AUC good =  0.9537751677852351\n",
      "accuracy :  0.8478964401294499\n"
     ]
    },
    {
     "data": {
      "image/png": "[encoded data removed]",
      "text/plain": [
       "<Figure size 432x288 with 1 Axes>"
      ]
     },
     "metadata": {
      "needs_background": "light"
     },
     "output_type": "display_data"
    },
    {
     "name": "stdout",
     "output_type": "stream",
     "text": [
      "Processing for horizon =  3\n",
      "AUC good =  0.9295591686221923\n",
      "accuracy :  0.8090614886731392\n"
     ]
    },
    {
     "data": {
      "image/png": "[encoded data removed]",
      "text/plain": [
       "<Figure size 432x288 with 1 Axes>"
      ]
     },
     "metadata": {
      "needs_background": "light"
     },
     "output_type": "display_data"
    },
    {
     "name": "stdout",
     "output_type": "stream",
     "text": [
      "Processing for horizon =  5\n",
      "AUC good =  0.9291938997821351\n",
      "accuracy :  0.7864077669902912\n"
     ]
    },
    {
     "data": {
      "image/png": "[encoded data removed]",
      "text/plain": [
       "<Figure size 432x288 with 1 Axes>"
      ]
     },
     "metadata": {
      "needs_background": "light"
     },
     "output_type": "display_data"
    },
    {
     "name": "stdout",
     "output_type": "stream",
     "text": [
      "Processing for horizon =  10\n",
      "AUC good =  0.8829697986577181\n",
      "accuracy :  0.7669902912621359\n"
     ]
    },
    {
     "data": {
      "image/png": "[encoded data removed]",
      "text/plain": [
       "<Figure size 432x288 with 1 Axes>"
      ]
     },
     "metadata": {
      "needs_background": "light"
     },
     "output_type": "display_data"
    },
    {
     "name": "stdout",
     "output_type": "stream",
     "text": [
      "Processing for horizon =  20\n",
      "AUC good =  0.9634687892752409\n",
      "accuracy :  0.8478964401294499\n"
     ]
    },
    {
     "data": {
      "image/png": "[encoded data removed]",
      "text/plain": [
       "<Figure size 432x288 with 1 Axes>"
      ]
     },
     "metadata": {
      "needs_background": "light"
     },
     "output_type": "display_data"
    },
    {
     "name": "stdout",
     "output_type": "stream",
     "text": [
      "Processing for horizon =  40\n",
      "AUC good =  0.926756163458291\n",
      "accuracy :  0.8058252427184466\n"
     ]
    },
    {
     "data": {
      "image/png": "[encoded data removed]",
      "text/plain": [
       "<Figure size 432x288 with 1 Axes>"
      ]
     },
     "metadata": {
      "needs_background": "light"
     },
     "output_type": "display_data"
    },
    {
     "name": "stdout",
     "output_type": "stream",
     "text": [
      "Processing for horizon =  60\n",
      "AUC good =  0.9791987673343605\n",
      "accuracy :  0.8640776699029126\n"
     ]
    },
    {
     "data": {
      "image/png": "[encoded data removed]",
      "text/plain": [
       "<Figure size 432x288 with 1 Axes>"
      ]
     },
     "metadata": {
      "needs_background": "light"
     },
     "output_type": "display_data"
    },
    {
     "name": "stdout",
     "output_type": "stream",
     "text": [
      "Processing for horizon =  120\n",
      "AUC good =  0.9699215344376634\n",
      "accuracy :  0.9029126213592233\n"
     ]
    },
    {
     "data": {
      "image/png": "[encoded data removed]",
      "text/plain": [
       "<Figure size 432x288 with 1 Axes>"
      ]
     },
     "metadata": {
      "needs_background": "light"
     },
     "output_type": "display_data"
    },
    {
     "name": "stdout",
     "output_type": "stream",
     "text": [
      "Processing for horizon =  250\n",
      "AUC good =  0.9965277777777778\n",
      "accuracy :  0.9288025889967637\n"
     ]
    },
    {
     "data": {
      "image/png": "[encoded data removed]",
      "text/plain": [
       "<Figure size 432x288 with 1 Axes>"
      ]
     },
     "metadata": {
      "needs_background": "light"
     },
     "output_type": "display_data"
    },
    {
     "name": "stdout",
     "output_type": "stream",
     "text": [
      "LQD\n",
      "Processing for horizon =  1\n",
      "AUC good =  0.9800252312867956\n",
      "accuracy :  0.9061488673139159\n"
     ]
    },
    {
     "data": {
      "image/png": "[encoded data removed]",
      "text/plain": [
       "<Figure size 432x288 with 1 Axes>"
      ]
     },
     "metadata": {
      "needs_background": "light"
     },
     "output_type": "display_data"
    },
    {
     "name": "stdout",
     "output_type": "stream",
     "text": [
      "Processing for horizon =  3\n",
      "AUC good =  0.908856805133401\n",
      "accuracy :  0.7993527508090615\n"
     ]
    },
    {
     "data": {
      "image/png": "[encoded data removed]",
      "text/plain": [
       "<Figure size 432x288 with 1 Axes>"
      ]
     },
     "metadata": {
      "needs_background": "light"
     },
     "output_type": "display_data"
    },
    {
     "name": "stdout",
     "output_type": "stream",
     "text": [
      "Processing for horizon =  5\n",
      "AUC good =  0.9274179767600821\n",
      "accuracy :  0.7928802588996764\n"
     ]
    },
    {
     "data": {
      "image/png": "[encoded data removed]",
      "text/plain": [
       "<Figure size 432x288 with 1 Axes>"
      ]
     },
     "metadata": {
      "needs_background": "light"
     },
     "output_type": "display_data"
    },
    {
     "name": "stdout",
     "output_type": "stream",
     "text": [
      "Processing for horizon =  10\n",
      "AUC good =  0.8950676982591876\n",
      "accuracy :  0.8058252427184466\n"
     ]
    },
    {
     "data": {
      "image/png": "[encoded data removed]",
      "text/plain": [
       "<Figure size 432x288 with 1 Axes>"
      ]
     },
     "metadata": {
      "needs_background": "light"
     },
     "output_type": "display_data"
    },
    {
     "name": "stdout",
     "output_type": "stream",
     "text": [
      "Processing for horizon =  20\n",
      "AUC good =  0.940194292653309\n",
      "accuracy :  0.7572815533980582\n"
     ]
    },
    {
     "data": {
      "image/png": "[encoded data removed]",
      "text/plain": [
       "<Figure size 432x288 with 1 Axes>"
      ]
     },
     "metadata": {
      "needs_background": "light"
     },
     "output_type": "display_data"
    },
    {
     "name": "stdout",
     "output_type": "stream",
     "text": [
      "Processing for horizon =  40\n",
      "AUC good =  0.9483574483574484\n",
      "accuracy :  0.8025889967637541\n"
     ]
    },
    {
     "data": {
      "image/png": "[encoded data removed]",
      "text/plain": [
       "<Figure size 432x288 with 1 Axes>"
      ]
     },
     "metadata": {
      "needs_background": "light"
     },
     "output_type": "display_data"
    },
    {
     "name": "stdout",
     "output_type": "stream",
     "text": [
      "Processing for horizon =  60\n",
      "AUC good =  0.9713723561239548\n",
      "accuracy :  0.8737864077669902\n"
     ]
    },
    {
     "data": {
      "image/png": "[encoded data removed]",
      "text/plain": [
       "<Figure size 432x288 with 1 Axes>"
      ]
     },
     "metadata": {
      "needs_background": "light"
     },
     "output_type": "display_data"
    },
    {
     "name": "stdout",
     "output_type": "stream",
     "text": [
      "Processing for horizon =  120\n",
      "AUC good =  0.9766609537251739\n",
      "accuracy :  0.8964401294498382\n"
     ]
    },
    {
     "data": {
      "image/png": "[encoded data removed]",
      "text/plain": [
       "<Figure size 432x288 with 1 Axes>"
      ]
     },
     "metadata": {
      "needs_background": "light"
     },
     "output_type": "display_data"
    },
    {
     "name": "stdout",
     "output_type": "stream",
     "text": [
      "Processing for horizon =  250\n",
      "AUC good =  0.9904974489795919\n",
      "accuracy :  0.9223300970873787\n"
     ]
    },
    {
     "data": {
      "image/png": "[encoded data removed]",
      "text/plain": [
       "<Figure size 432x288 with 1 Axes>"
      ]
     },
     "metadata": {
      "needs_background": "light"
     },
     "output_type": "display_data"
    },
    {
     "name": "stdout",
     "output_type": "stream",
     "text": [
      "TIP\n",
      "Processing for horizon =  1\n",
      "AUC good =  0.9674040556393498\n",
      "accuracy :  0.912621359223301\n"
     ]
    },
    {
     "data": {
      "image/png": "[encoded data removed]",
      "text/plain": [
       "<Figure size 432x288 with 1 Axes>"
      ]
     },
     "metadata": {
      "needs_background": "light"
     },
     "output_type": "display_data"
    },
    {
     "name": "stdout",
     "output_type": "stream",
     "text": [
      "Processing for horizon =  3\n",
      "AUC good =  0.8878508588186007\n",
      "accuracy :  0.8090614886731392\n"
     ]
    },
    {
     "data": {
      "image/png": "[encoded data removed]",
      "text/plain": [
       "<Figure size 432x288 with 1 Axes>"
      ]
     },
     "metadata": {
      "needs_background": "light"
     },
     "output_type": "display_data"
    },
    {
     "name": "stdout",
     "output_type": "stream",
     "text": [
      "Processing for horizon =  5\n",
      "AUC good =  0.9195859872611465\n",
      "accuracy :  0.8381877022653722\n"
     ]
    },
    {
     "data": {
      "image/png": "[encoded data removed]",
      "text/plain": [
       "<Figure size 432x288 with 1 Axes>"
      ]
     },
     "metadata": {
      "needs_background": "light"
     },
     "output_type": "display_data"
    },
    {
     "name": "stdout",
     "output_type": "stream",
     "text": [
      "Processing for horizon =  10\n",
      "AUC good =  0.9275180157533098\n",
      "accuracy :  0.8349514563106796\n"
     ]
    },
    {
     "data": {
      "image/png": "[encoded data removed]",
      "text/plain": [
       "<Figure size 432x288 with 1 Axes>"
      ]
     },
     "metadata": {
      "needs_background": "light"
     },
     "output_type": "display_data"
    },
    {
     "name": "stdout",
     "output_type": "stream",
     "text": [
      "Processing for horizon =  20\n",
      "AUC good =  0.9292433022591753\n",
      "accuracy :  0.8381877022653722\n"
     ]
    },
    {
     "data": {
      "image/png": "[encoded data removed]",
      "text/plain": [
       "<Figure size 432x288 with 1 Axes>"
      ]
     },
     "metadata": {
      "needs_background": "light"
     },
     "output_type": "display_data"
    },
    {
     "name": "stdout",
     "output_type": "stream",
     "text": [
      "Processing for horizon =  40\n",
      "AUC good =  0.8937762825904122\n",
      "accuracy :  0.8025889967637541\n"
     ]
    },
    {
     "data": {
      "image/png": "[encoded data removed]",
      "text/plain": [
       "<Figure size 432x288 with 1 Axes>"
      ]
     },
     "metadata": {
      "needs_background": "light"
     },
     "output_type": "display_data"
    },
    {
     "name": "stdout",
     "output_type": "stream",
     "text": [
      "Processing for horizon =  60\n",
      "AUC good =  0.9551303616484441\n",
      "accuracy :  0.8705501618122977\n"
     ]
    },
    {
     "data": {
      "image/png": "[encoded data removed]",
      "text/plain": [
       "<Figure size 432x288 with 1 Axes>"
      ]
     },
     "metadata": {
      "needs_background": "light"
     },
     "output_type": "display_data"
    },
    {
     "name": "stdout",
     "output_type": "stream",
     "text": [
      "Processing for horizon =  120\n",
      "AUC good =  0.9771885521885522\n",
      "accuracy :  0.8576051779935275\n"
     ]
    },
    {
     "data": {
      "image/png": "[encoded data removed]",
      "text/plain": [
       "<Figure size 432x288 with 1 Axes>"
      ]
     },
     "metadata": {
      "needs_background": "light"
     },
     "output_type": "display_data"
    },
    {
     "name": "stdout",
     "output_type": "stream",
     "text": [
      "Processing for horizon =  250\n",
      "AUC good =  0.9995317156236697\n",
      "accuracy :  0.9773462783171522\n"
     ]
    },
    {
     "data": {
      "image/png": "[encoded data removed]",
      "text/plain": [
       "<Figure size 432x288 with 1 Axes>"
      ]
     },
     "metadata": {
      "needs_background": "light"
     },
     "output_type": "display_data"
    },
    {
     "name": "stdout",
     "output_type": "stream",
     "text": [
      "IYR\n",
      "Processing for horizon =  1\n",
      "AUC good =  0.9602881893815935\n",
      "accuracy :  0.8737864077669902\n"
     ]
    },
    {
     "data": {
      "image/png": "[encoded data removed]",
      "text/plain": [
       "<Figure size 432x288 with 1 Axes>"
      ]
     },
     "metadata": {
      "needs_background": "light"
     },
     "output_type": "display_data"
    },
    {
     "name": "stdout",
     "output_type": "stream",
     "text": [
      "Processing for horizon =  3\n",
      "AUC good =  0.8635459029159817\n",
      "accuracy :  0.7572815533980582\n"
     ]
    },
    {
     "data": {
      "image/png": "[encoded data removed]",
      "text/plain": [
       "<Figure size 432x288 with 1 Axes>"
      ]
     },
     "metadata": {
      "needs_background": "light"
     },
     "output_type": "display_data"
    },
    {
     "name": "stdout",
     "output_type": "stream",
     "text": [
      "Processing for horizon =  5\n",
      "AUC good =  0.8961314944921502\n",
      "accuracy :  0.7864077669902912\n"
     ]
    },
    {
     "data": {
      "image/png": "[encoded data removed]",
      "text/plain": [
       "<Figure size 432x288 with 1 Axes>"
      ]
     },
     "metadata": {
      "needs_background": "light"
     },
     "output_type": "display_data"
    },
    {
     "name": "stdout",
     "output_type": "stream",
     "text": [
      "Processing for horizon =  10\n",
      "AUC good =  0.9185342216838279\n",
      "accuracy :  0.7540453074433657\n"
     ]
    },
    {
     "data": {
      "image/png": "[encoded data removed]",
      "text/plain": [
       "<Figure size 432x288 with 1 Axes>"
      ]
     },
     "metadata": {
      "needs_background": "light"
     },
     "output_type": "display_data"
    },
    {
     "name": "stdout",
     "output_type": "stream",
     "text": [
      "Processing for horizon =  20\n",
      "AUC good =  0.9428271702071859\n",
      "accuracy :  0.7443365695792881\n"
     ]
    },
    {
     "data": {
      "image/png": "[encoded data removed]",
      "text/plain": [
       "<Figure size 432x288 with 1 Axes>"
      ]
     },
     "metadata": {
      "needs_background": "light"
     },
     "output_type": "display_data"
    },
    {
     "name": "stdout",
     "output_type": "stream",
     "text": [
      "Processing for horizon =  40\n",
      "AUC good =  0.9621185701830864\n",
      "accuracy :  0.7928802588996764\n"
     ]
    },
    {
     "data": {
      "image/png": "[encoded data removed]",
      "text/plain": [
       "<Figure size 432x288 with 1 Axes>"
      ]
     },
     "metadata": {
      "needs_background": "light"
     },
     "output_type": "display_data"
    },
    {
     "name": "stdout",
     "output_type": "stream",
     "text": [
      "Processing for horizon =  60\n",
      "AUC good =  0.9608636977058029\n",
      "accuracy :  0.8058252427184466\n"
     ]
    },
    {
     "data": {
      "image/png": "[encoded data removed]",
      "text/plain": [
       "<Figure size 432x288 with 1 Axes>"
      ]
     },
     "metadata": {
      "needs_background": "light"
     },
     "output_type": "display_data"
    },
    {
     "name": "stdout",
     "output_type": "stream",
     "text": [
      "Processing for horizon =  120\n",
      "AUC good =  0.9858718487394957\n",
      "accuracy :  0.9093851132686084\n"
     ]
    },
    {
     "data": {
      "image/png": "[encoded data removed]",
      "text/plain": [
       "<Figure size 432x288 with 1 Axes>"
      ]
     },
     "metadata": {
      "needs_background": "light"
     },
     "output_type": "display_data"
    },
    {
     "name": "stdout",
     "output_type": "stream",
     "text": [
      "Processing for horizon =  250\n",
      "AUC good =  0.975391032325339\n",
      "accuracy :  0.8867313915857605\n"
     ]
    },
    {
     "data": {
      "image/png": "[encoded data removed]",
      "text/plain": [
       "<Figure size 432x288 with 1 Axes>"
      ]
     },
     "metadata": {
      "needs_background": "light"
     },
     "output_type": "display_data"
    },
    {
     "name": "stdout",
     "output_type": "stream",
     "text": [
      "GLD\n",
      "Processing for horizon =  1\n",
      "AUC good =  0.9830607966457022\n",
      "accuracy :  0.86084142394822\n"
     ]
    },
    {
     "data": {
      "image/png": "[encoded data removed]",
      "text/plain": [
       "<Figure size 432x288 with 1 Axes>"
      ]
     },
     "metadata": {
      "needs_background": "light"
     },
     "output_type": "display_data"
    },
    {
     "name": "stdout",
     "output_type": "stream",
     "text": [
      "Processing for horizon =  3\n",
      "AUC good =  0.7984323916505993\n",
      "accuracy :  0.6796116504854369\n"
     ]
    },
    {
     "data": {
      "image/png": "[encoded data removed]",
      "text/plain": [
       "<Figure size 432x288 with 1 Axes>"
      ]
     },
     "metadata": {
      "needs_background": "light"
     },
     "output_type": "display_data"
    },
    {
     "name": "stdout",
     "output_type": "stream",
     "text": [
      "Processing for horizon =  5\n",
      "AUC good =  0.8894988266845457\n",
      "accuracy :  0.7896440129449838\n"
     ]
    },
    {
     "data": {
      "image/png": "[encoded data removed]",
      "text/plain": [
       "<Figure size 432x288 with 1 Axes>"
      ]
     },
     "metadata": {
      "needs_background": "light"
     },
     "output_type": "display_data"
    },
    {
     "name": "stdout",
     "output_type": "stream",
     "text": [
      "Processing for horizon =  10\n",
      "AUC good =  0.8954533994453315\n",
      "accuracy :  0.7928802588996764\n"
     ]
    },
    {
     "data": {
      "image/png": "[encoded data removed]",
      "text/plain": [
       "<Figure size 432x288 with 1 Axes>"
      ]
     },
     "metadata": {
      "needs_background": "light"
     },
     "output_type": "display_data"
    },
    {
     "name": "stdout",
     "output_type": "stream",
     "text": [
      "Processing for horizon =  20\n",
      "AUC good =  0.8899020601148261\n",
      "accuracy :  0.656957928802589\n"
     ]
    },
    {
     "data": {
      "image/png": "[encoded data removed]",
      "text/plain": [
       "<Figure size 432x288 with 1 Axes>"
      ]
     },
     "metadata": {
      "needs_background": "light"
     },
     "output_type": "display_data"
    },
    {
     "name": "stdout",
     "output_type": "stream",
     "text": [
      "Processing for horizon =  40\n",
      "AUC good =  0.9565456303850888\n",
      "accuracy :  0.6472491909385113\n"
     ]
    },
    {
     "data": {
      "image/png": "[encoded data removed]",
      "text/plain": [
       "<Figure size 432x288 with 1 Axes>"
      ]
     },
     "metadata": {
      "needs_background": "light"
     },
     "output_type": "display_data"
    },
    {
     "name": "stdout",
     "output_type": "stream",
     "text": [
      "Processing for horizon =  60\n",
      "AUC good =  0.9502127865364155\n",
      "accuracy :  0.7734627831715211\n"
     ]
    },
    {
     "data": {
      "image/png": "[encoded data removed]",
      "text/plain": [
       "<Figure size 432x288 with 1 Axes>"
      ]
     },
     "metadata": {
      "needs_background": "light"
     },
     "output_type": "display_data"
    },
    {
     "name": "stdout",
     "output_type": "stream",
     "text": [
      "Processing for horizon =  120\n",
      "AUC good =  0.909965034965035\n",
      "accuracy :  0.7799352750809061\n"
     ]
    },
    {
     "data": {
      "image/png": "[encoded data removed]",
      "text/plain": [
       "<Figure size 432x288 with 1 Axes>"
      ]
     },
     "metadata": {
      "needs_background": "light"
     },
     "output_type": "display_data"
    },
    {
     "name": "stdout",
     "output_type": "stream",
     "text": [
      "Processing for horizon =  250\n",
      "AUC good =  0.9630566177377574\n",
      "accuracy :  0.883495145631068\n"
     ]
    },
    {
     "data": {
      "image/png": "[encoded data removed]",
      "text/plain": [
       "<Figure size 432x288 with 1 Axes>"
      ]
     },
     "metadata": {
      "needs_background": "light"
     },
     "output_type": "display_data"
    },
    {
     "name": "stdout",
     "output_type": "stream",
     "text": [
      "FXE\n",
      "Processing for horizon =  1\n",
      "AUC good =  0.9522727272727273\n",
      "accuracy :  0.7734627831715211\n"
     ]
    },
    {
     "data": {
      "image/png": "[encoded data removed]",
      "text/plain": [
       "<Figure size 432x288 with 1 Axes>"
      ]
     },
     "metadata": {
      "needs_background": "light"
     },
     "output_type": "display_data"
    },
    {
     "name": "stdout",
     "output_type": "stream",
     "text": [
      "Processing for horizon =  3\n",
      "AUC good =  0.8633808724832215\n",
      "accuracy :  0.7313915857605178\n"
     ]
    },
    {
     "data": {
      "image/png": "[encoded data removed]",
      "text/plain": [
       "<Figure size 432x288 with 1 Axes>"
      ]
     },
     "metadata": {
      "needs_background": "light"
     },
     "output_type": "display_data"
    },
    {
     "name": "stdout",
     "output_type": "stream",
     "text": [
      "Processing for horizon =  5\n",
      "AUC good =  0.8978187919463088\n",
      "accuracy :  0.7152103559870551\n"
     ]
    },
    {
     "data": {
      "image/png": "[encoded data removed]",
      "text/plain": [
       "<Figure size 432x288 with 1 Axes>"
      ]
     },
     "metadata": {
      "needs_background": "light"
     },
     "output_type": "display_data"
    },
    {
     "name": "stdout",
     "output_type": "stream",
     "text": [
      "Processing for horizon =  10\n",
      "AUC good =  0.9236477987421383\n",
      "accuracy :  0.8252427184466019\n"
     ]
    },
    {
     "data": {
      "image/png": "[encoded data removed]",
      "text/plain": [
       "<Figure size 432x288 with 1 Axes>"
      ]
     },
     "metadata": {
      "needs_background": "light"
     },
     "output_type": "display_data"
    },
    {
     "name": "stdout",
     "output_type": "stream",
     "text": [
      "Processing for horizon =  20\n",
      "AUC good =  0.9081391421816953\n",
      "accuracy :  0.8155339805825242\n"
     ]
    },
    {
     "data": {
      "image/png": "[encoded data removed]",
      "text/plain": [
       "<Figure size 432x288 with 1 Axes>"
      ]
     },
     "metadata": {
      "needs_background": "light"
     },
     "output_type": "display_data"
    },
    {
     "name": "stdout",
     "output_type": "stream",
     "text": [
      "Processing for horizon =  40\n",
      "AUC good =  0.9283976510067115\n",
      "accuracy :  0.8090614886731392\n"
     ]
    },
    {
     "data": {
      "image/png": "[encoded data removed]",
      "text/plain": [
       "<Figure size 432x288 with 1 Axes>"
      ]
     },
     "metadata": {
      "needs_background": "light"
     },
     "output_type": "display_data"
    },
    {
     "name": "stdout",
     "output_type": "stream",
     "text": [
      "Processing for horizon =  60\n",
      "AUC good =  0.9387031408308004\n",
      "accuracy :  0.8478964401294499\n"
     ]
    },
    {
     "data": {
      "image/png": "[encoded data removed]",
      "text/plain": [
       "<Figure size 432x288 with 1 Axes>"
      ]
     },
     "metadata": {
      "needs_background": "light"
     },
     "output_type": "display_data"
    },
    {
     "name": "stdout",
     "output_type": "stream",
     "text": [
      "Processing for horizon =  120\n",
      "AUC good =  0.9677684520204205\n",
      "accuracy :  0.8511326860841424\n"
     ]
    },
    {
     "data": {
      "image/png": "[encoded data removed]",
      "text/plain": [
       "<Figure size 432x288 with 1 Axes>"
      ]
     },
     "metadata": {
      "needs_background": "light"
     },
     "output_type": "display_data"
    },
    {
     "name": "stdout",
     "output_type": "stream",
     "text": [
      "Processing for horizon =  250\n",
      "AUC good =  0.9946808510638299\n",
      "accuracy :  0.8640776699029126\n"
     ]
    },
    {
     "data": {
      "image/png": "[encoded data removed]",
      "text/plain": [
       "<Figure size 432x288 with 1 Axes>"
      ]
     },
     "metadata": {
      "needs_background": "light"
     },
     "output_type": "display_data"
    },
    {
     "name": "stdout",
     "output_type": "stream",
     "text": [
      "Wall time: 2min 35s\n"
     ]
    }
   ],
   "source": [
    "%%time\n",
    "#df_data = pd.DataFrame\n",
    "#df_data = df[dummy]\n",
    "\n",
    "for i in df_col:\n",
    "    \n",
    "    print(i)\n",
    "    \n",
    "    for j in td:\n",
    "                \n",
    "        y_col = str(i)+str(j)+\"_y\"\n",
    "                \n",
    "        y_columns = df.columns[188:]\n",
    "        \n",
    "        #df_data[[r_col, v_col, y_col]] = df[[r_col, v_col, y_col]]\n",
    "        \n",
    "        X = df.drop(y_columns, axis = 1)\n",
    "        X = df.drop([y_col], axis = 1)\n",
    "        y = df[y_col]\n",
    "        \n",
    "        X_train, X_test, y_train, y_test = train_test_split(X, y, \n",
    "                                                            test_size=0.3,\n",
    "                                                            random_state=0)\n",
    "        \n",
    "        \n",
    "        print(\"Processing for horizon = \",j)\n",
    "        \n",
    "        for numtrees in {100,200,300}:\n",
    "            lw=2\n",
    "            clf = RandomForestClassifier(n_estimators=numtrees, \n",
    "                                         criterion='gini',\n",
    "                                        max_depth = 1)\n",
    "            clf.fit(X_train,y_train)\n",
    "\n",
    "            predictions = clf.predict(X_test)\n",
    "            probs = clf.predict_proba(X_test)\n",
    "            \n",
    "            #print(\"numtree : \",numtrees)\n",
    "            #print(predictions)\n",
    "            #print(probs)\n",
    "        \n",
    "        fpr, tpr, thresholds = roc_curve(y_test, probs[:, 1])\n",
    "        #fpr, tpr, thresholds = roc_curve(y_test, predictions)\n",
    "        mean_tpr += interp(mean_fpr, fpr, tpr)\n",
    "        mean_tpr[0] = 0.0\n",
    "        roc_auc = auc(fpr, tpr)\n",
    "        print (\"AUC good = \",roc_auc)\n",
    "        print(\"accuracy : \", metrics.accuracy_score(y_test, predictions))\n",
    "        plt.plot(fpr, tpr, lw=lw, color='black')\n",
    "        #plt.title(\"Horizon = \"+str(filename))\n",
    "        plt.show()"
   ]
  },
  {
   "cell_type": "code",
   "execution_count": null,
   "metadata": {},
   "outputs": [],
   "source": []
  }
 ],
 "metadata": {
  "kernelspec": {
   "display_name": "Python 3",
   "language": "python",
   "name": "python3"
  },
  "language_info": {
   "codemirror_mode": {
    "name": "ipython",
    "version": 3
   },
   "file_extension": ".py",
   "mimetype": "text/x-python",
   "name": "python",
   "nbconvert_exporter": "python",
   "pygments_lexer": "ipython3",
   "version": "3.7.4"
  }
 },
 "nbformat": 4,
 "nbformat_minor": 2
}
