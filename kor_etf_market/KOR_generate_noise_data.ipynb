{
 "cells": [
  {
   "cell_type": "code",
   "execution_count": 12,
   "metadata": {},
   "outputs": [],
   "source": [
    "import pandas as pd\n",
    "import numpy as np"
   ]
  },
  {
   "cell_type": "code",
   "execution_count": 13,
   "metadata": {},
   "outputs": [],
   "source": [
    "g_df = pd.read_excel(\"kor_etf_data_final.xlsx\")"
   ]
  },
  {
   "cell_type": "code",
   "execution_count": 14,
   "metadata": {},
   "outputs": [
    {
     "name": "stdout",
     "output_type": "stream",
     "text": [
      "<class 'pandas.core.frame.DataFrame'>\n",
      "RangeIndex: 1867 entries, 0 to 1866\n",
      "Columns: 109 entries, Unnamed: 0 to FRI\n",
      "dtypes: datetime64[ns](1), float64(53), int64(55)\n",
      "memory usage: 1.6 MB\n"
     ]
    }
   ],
   "source": [
    "g_df.info()"
   ]
  },
  {
   "cell_type": "code",
   "execution_count": 15,
   "metadata": {},
   "outputs": [
    {
     "data": {
      "text/plain": [
       "Index(['Unnamed: 0', 'index', 'date', 'KOD_p', 'KBS_p', 'TIG_p', 'KOD_v',\n",
       "       'KBS_v', 'TIG_v', 'month',\n",
       "       ...\n",
       "       'month_8', 'month_9', 'month_10', 'month_11', 'month_12', 'MON', 'TUE',\n",
       "       'WED', 'THU', 'FRI'],\n",
       "      dtype='object', length=109)"
      ]
     },
     "execution_count": 15,
     "metadata": {},
     "output_type": "execute_result"
    }
   ],
   "source": [
    "g_df.columns"
   ]
  },
  {
   "cell_type": "code",
   "execution_count": 16,
   "metadata": {},
   "outputs": [],
   "source": [
    "g_df.drop(['Unnamed: 0'], axis = 1, inplace = True)"
   ]
  },
  {
   "cell_type": "code",
   "execution_count": 17,
   "metadata": {},
   "outputs": [
    {
     "data": {
      "text/html": [
       "<div>\n",
       "<style scoped>\n",
       "    .dataframe tbody tr th:only-of-type {\n",
       "        vertical-align: middle;\n",
       "    }\n",
       "\n",
       "    .dataframe tbody tr th {\n",
       "        vertical-align: top;\n",
       "    }\n",
       "\n",
       "    .dataframe thead th {\n",
       "        text-align: right;\n",
       "    }\n",
       "</style>\n",
       "<table border=\"1\" class=\"dataframe\">\n",
       "  <thead>\n",
       "    <tr style=\"text-align: right;\">\n",
       "      <th></th>\n",
       "      <th>index</th>\n",
       "      <th>date</th>\n",
       "      <th>KOD_p</th>\n",
       "      <th>KBS_p</th>\n",
       "      <th>TIG_p</th>\n",
       "      <th>KOD_v</th>\n",
       "      <th>KBS_v</th>\n",
       "      <th>TIG_v</th>\n",
       "      <th>month</th>\n",
       "      <th>week</th>\n",
       "      <th>...</th>\n",
       "      <th>month_8</th>\n",
       "      <th>month_9</th>\n",
       "      <th>month_10</th>\n",
       "      <th>month_11</th>\n",
       "      <th>month_12</th>\n",
       "      <th>MON</th>\n",
       "      <th>TUE</th>\n",
       "      <th>WED</th>\n",
       "      <th>THU</th>\n",
       "      <th>FRI</th>\n",
       "    </tr>\n",
       "  </thead>\n",
       "  <tbody>\n",
       "    <tr>\n",
       "      <td>0</td>\n",
       "      <td>263</td>\n",
       "      <td>2012-01-25</td>\n",
       "      <td>16513.015625</td>\n",
       "      <td>93433.015625</td>\n",
       "      <td>10870</td>\n",
       "      <td>2836393</td>\n",
       "      <td>2014</td>\n",
       "      <td>21902</td>\n",
       "      <td>1</td>\n",
       "      <td>2</td>\n",
       "      <td>...</td>\n",
       "      <td>0</td>\n",
       "      <td>0</td>\n",
       "      <td>0</td>\n",
       "      <td>0</td>\n",
       "      <td>0</td>\n",
       "      <td>0</td>\n",
       "      <td>0</td>\n",
       "      <td>1</td>\n",
       "      <td>0</td>\n",
       "      <td>0</td>\n",
       "    </tr>\n",
       "    <tr>\n",
       "      <td>1</td>\n",
       "      <td>268</td>\n",
       "      <td>2012-02-01</td>\n",
       "      <td>1263.925903</td>\n",
       "      <td>93600.031250</td>\n",
       "      <td>10835</td>\n",
       "      <td>890</td>\n",
       "      <td>2013</td>\n",
       "      <td>6415</td>\n",
       "      <td>2</td>\n",
       "      <td>2</td>\n",
       "      <td>...</td>\n",
       "      <td>0</td>\n",
       "      <td>0</td>\n",
       "      <td>0</td>\n",
       "      <td>0</td>\n",
       "      <td>0</td>\n",
       "      <td>0</td>\n",
       "      <td>0</td>\n",
       "      <td>1</td>\n",
       "      <td>0</td>\n",
       "      <td>0</td>\n",
       "    </tr>\n",
       "    <tr>\n",
       "      <td>2</td>\n",
       "      <td>269</td>\n",
       "      <td>2012-02-02</td>\n",
       "      <td>1252.214722</td>\n",
       "      <td>93591.156250</td>\n",
       "      <td>10665</td>\n",
       "      <td>1630</td>\n",
       "      <td>3019</td>\n",
       "      <td>22187</td>\n",
       "      <td>2</td>\n",
       "      <td>3</td>\n",
       "      <td>...</td>\n",
       "      <td>0</td>\n",
       "      <td>0</td>\n",
       "      <td>0</td>\n",
       "      <td>0</td>\n",
       "      <td>0</td>\n",
       "      <td>0</td>\n",
       "      <td>0</td>\n",
       "      <td>0</td>\n",
       "      <td>1</td>\n",
       "      <td>0</td>\n",
       "    </tr>\n",
       "    <tr>\n",
       "      <td>3</td>\n",
       "      <td>270</td>\n",
       "      <td>2012-02-03</td>\n",
       "      <td>1198.162109</td>\n",
       "      <td>93617.820313</td>\n",
       "      <td>10570</td>\n",
       "      <td>1960</td>\n",
       "      <td>2263</td>\n",
       "      <td>13551</td>\n",
       "      <td>2</td>\n",
       "      <td>4</td>\n",
       "      <td>...</td>\n",
       "      <td>0</td>\n",
       "      <td>0</td>\n",
       "      <td>0</td>\n",
       "      <td>0</td>\n",
       "      <td>0</td>\n",
       "      <td>0</td>\n",
       "      <td>0</td>\n",
       "      <td>0</td>\n",
       "      <td>0</td>\n",
       "      <td>1</td>\n",
       "    </tr>\n",
       "    <tr>\n",
       "      <td>4</td>\n",
       "      <td>272</td>\n",
       "      <td>2012-02-07</td>\n",
       "      <td>16175.183594</td>\n",
       "      <td>93538.734375</td>\n",
       "      <td>10615</td>\n",
       "      <td>1842404</td>\n",
       "      <td>2012</td>\n",
       "      <td>10603</td>\n",
       "      <td>2</td>\n",
       "      <td>1</td>\n",
       "      <td>...</td>\n",
       "      <td>0</td>\n",
       "      <td>0</td>\n",
       "      <td>0</td>\n",
       "      <td>0</td>\n",
       "      <td>0</td>\n",
       "      <td>0</td>\n",
       "      <td>1</td>\n",
       "      <td>0</td>\n",
       "      <td>0</td>\n",
       "      <td>0</td>\n",
       "    </tr>\n",
       "  </tbody>\n",
       "</table>\n",
       "<p>5 rows × 108 columns</p>\n",
       "</div>"
      ],
      "text/plain": [
       "   index       date         KOD_p         KBS_p  TIG_p    KOD_v  KBS_v  TIG_v  \\\n",
       "0    263 2012-01-25  16513.015625  93433.015625  10870  2836393   2014  21902   \n",
       "1    268 2012-02-01   1263.925903  93600.031250  10835      890   2013   6415   \n",
       "2    269 2012-02-02   1252.214722  93591.156250  10665     1630   3019  22187   \n",
       "3    270 2012-02-03   1198.162109  93617.820313  10570     1960   2263  13551   \n",
       "4    272 2012-02-07  16175.183594  93538.734375  10615  1842404   2012  10603   \n",
       "\n",
       "   month  week  ...  month_8  month_9  month_10  month_11  month_12  MON  TUE  \\\n",
       "0      1     2  ...        0        0         0         0         0    0    0   \n",
       "1      2     2  ...        0        0         0         0         0    0    0   \n",
       "2      2     3  ...        0        0         0         0         0    0    0   \n",
       "3      2     4  ...        0        0         0         0         0    0    0   \n",
       "4      2     1  ...        0        0         0         0         0    0    1   \n",
       "\n",
       "   WED  THU  FRI  \n",
       "0    1    0    0  \n",
       "1    1    0    0  \n",
       "2    0    1    0  \n",
       "3    0    0    1  \n",
       "4    0    0    0  \n",
       "\n",
       "[5 rows x 108 columns]"
      ]
     },
     "execution_count": 17,
     "metadata": {},
     "output_type": "execute_result"
    }
   ],
   "source": [
    "g_df.head()"
   ]
  },
  {
   "cell_type": "code",
   "execution_count": 18,
   "metadata": {},
   "outputs": [],
   "source": [
    "df_col = ['KOD_p',\n",
    "          'KBS_p',\n",
    "          'TIG_p',\n",
    "          'KOD_v',\n",
    "          'KBS_v',\n",
    "          'TIG_v']"
   ]
  },
  {
   "cell_type": "code",
   "execution_count": 19,
   "metadata": {},
   "outputs": [],
   "source": [
    "td = [1, 3, 5, 10, 20, 40, 60, 120, 250]"
   ]
  },
  {
   "cell_type": "code",
   "execution_count": 20,
   "metadata": {},
   "outputs": [
    {
     "name": "stdout",
     "output_type": "stream",
     "text": [
      "KOD_p  Random values Generating...\n",
      "KBS_p  Random values Generating...\n",
      "TIG_p  Random values Generating...\n",
      "KOD_v  Random values Generating...\n",
      "KBS_v  Random values Generating...\n",
      "TIG_v  Random values Generating...\n",
      "Wall time: 42.4 ms\n"
     ]
    }
   ],
   "source": [
    "%%time\n",
    "\n",
    "for k in g_df[df_col]:\n",
    "    \n",
    "    print(k,\" Random values Generating...\")\n",
    "\n",
    "    for i in td:\n",
    "        \n",
    "\n",
    "        #cir_check = 1        \n",
    "\n",
    "        a = k+\"_\"+str(i)\n",
    "                        \n",
    "        a_min = g_df[a].min()\n",
    "        a_max = g_df[a].max()\n",
    "        \n",
    "        # noise_a = np.random.uniform(0,1,len(g_df))\n",
    "                        \n",
    "        noise_a = np.random.uniform(a_min,a_max,len(g_df))\n",
    "        \n",
    "        g_df[a] = None\n",
    "                \n",
    "        g_df[a] = noise_a"
   ]
  },
  {
   "cell_type": "code",
   "execution_count": 21,
   "metadata": {},
   "outputs": [],
   "source": [
    "g_df.to_excel(\"kor_random_data_final.xlsx\")"
   ]
  },
  {
   "cell_type": "code",
   "execution_count": null,
   "metadata": {},
   "outputs": [],
   "source": []
  }
 ],
 "metadata": {
  "kernelspec": {
   "display_name": "Python 3",
   "language": "python",
   "name": "python3"
  },
  "language_info": {
   "codemirror_mode": {
    "name": "ipython",
    "version": 3
   },
   "file_extension": ".py",
   "mimetype": "text/x-python",
   "name": "python",
   "nbconvert_exporter": "python",
   "pygments_lexer": "ipython3",
   "version": "3.7.4"
  }
 },
 "nbformat": 4,
 "nbformat_minor": 2
}
